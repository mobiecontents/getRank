{
 "cells": [
  {
   "cell_type": "code",
   "execution_count": 1,
   "metadata": {},
   "outputs": [],
   "source": [
    "import pandas as pd"
   ]
  },
  {
   "cell_type": "code",
   "execution_count": 2,
   "metadata": {},
   "outputs": [],
   "source": [
    "data=pd.read_csv('./datas/data.csv')"
   ]
  },
  {
   "cell_type": "code",
   "execution_count": 3,
   "metadata": {},
   "outputs": [],
   "source": [
    "del data['타임스탬프']"
   ]
  },
  {
   "cell_type": "code",
   "execution_count": 4,
   "metadata": {},
   "outputs": [],
   "source": [
    "asd=[]\n",
    "they=[]\n",
    "with open('./datas/form.txt','r') as fp: \n",
    "    asd=fp.read().split('\\n')\n",
    "    \n",
    "for i in  range(len(data)):\n",
    "    mbti_dic={'MBTI':data.loc[i][0],'1':data.loc[i][1],'2':data.loc[i][2],'3':data.loc[i][3]}\n",
    "    they.append(mbti_dic)"
   ]
  },
  {
   "cell_type": "code",
   "execution_count": 5,
   "metadata": {},
   "outputs": [],
   "source": [
    "def oneHotEncoding(lst,find_view):\n",
    "    return_lst=[]\n",
    "    return_lst.append(find_view.index(lst[0]))\n",
    "    return_lst.append(find_view.index(lst[1]))\n",
    "    return_lst.append(find_view.index(lst[2]))\n",
    "    return return_lst\n",
    "def List_to_3nd_List(lst):\n",
    "    one=[]\n",
    "    two=[]\n",
    "    three=[]\n",
    "    for i in lst:\n",
    "        one.append(i[0])\n",
    "        two.append(i[1])\n",
    "        three.append(i[2])\n",
    "    print([one,two,three])\n",
    "    return [one,two,three]\n",
    "def getRank(lst):\n",
    "    return_lst=[]\n",
    "    for i in range(len(lst)):\n",
    "        top=0\n",
    "        big=0\n",
    "        top_lst=[]\n",
    "        top=lst[i].count(0)\n",
    "        if top<lst[i].count(1):\n",
    "            top=lst[i].count(1)\n",
    "            big=1\n",
    "        if top<lst[i].count(2):\n",
    "            top=lst[i].count(2)\n",
    "            big=2\n",
    "        if top==lst[i].count(0) and big!=0:\n",
    "            top_lst.append(0)\n",
    "        if top==lst[i].count(1) and big!=1:\n",
    "            top_lst.append(1)\n",
    "        if top==lst[i].count(2) and big!=2:\n",
    "            top_lst.append(2)\n",
    "        top_lst.append(big)\n",
    "        return_lst.append({i+1:top_lst})\n",
    "    return return_lst\n",
    "    "
   ]
  },
  {
   "cell_type": "code",
   "execution_count": 6,
   "metadata": {},
   "outputs": [
    {
     "name": "stdout",
     "output_type": "stream",
     "text": [
      "{'MBTI': 'INFP', '1': '성공가능', '2': '효율', '3': '제한시간'}\n",
      "{'MBTI': 'INTP', '1': '효율', '2': '제한시간', '3': '성공가능'}\n",
      "{'MBTI': 'ENFP', '1': '성공가능', '2': '효율', '3': '제한시간'}\n",
      "{'MBTI': 'ESFP', '1': '성공가능', '2': '효율', '3': '제한시간'}\n",
      "{'MBTI': 'ESFJ', '1': '성공가능', '2': '효율', '3': '제한시간'}\n",
      "{'MBTI': 'ENTP', '1': '효율', '2': '성공가능', '3': '제한시간'}\n",
      "{'MBTI': 'ENFP', '1': '효율', '2': '제한시간', '3': '성공가능'}\n",
      "{'MBTI': 'ENFP', '1': '성공가능', '2': '효율', '3': '제한시간'}\n",
      "{'MBTI': 'ENFP', '1': '성공가능', '2': '효율', '3': '제한시간'}\n",
      "{'MBTI': 'ESFJ', '1': '효율', '2': '제한시간', '3': '성공가능'}\n",
      "{'MBTI': 'INTP', '1': '효율', '2': '성공가능', '3': '제한시간'}\n",
      "{'MBTI': 'ENTP', '1': '효율', '2': '성공가능', '3': '제한시간'}\n",
      "{'MBTI': 'ENFP', '1': '성공가능', '2': '효율', '3': '제한시간'}\n",
      "{'MBTI': 'INFJ', '1': '성공가능', '2': '제한시간', '3': '효율'}\n",
      "{'MBTI': 'ISFP', '1': '효율', '2': '성공가능', '3': '제한시간'}\n",
      "{'MBTI': 'ESTP', '1': '효율', '2': '성공가능', '3': '제한시간'}\n",
      "{'MBTI': 'ENTP', '1': '효율', '2': '성공가능', '3': '제한시간'}\n",
      "{'MBTI': 'ENTJ', '1': '제한시간', '2': '성공가능', '3': '효율'}\n",
      "{'MBTI': 'INTP', '1': '효율', '2': '성공가능', '3': '제한시간'}\n",
      "{'MBTI': 'ENFP', '1': '성공가능', '2': '효율', '3': '제한시간'}\n",
      "{'MBTI': 'ENTJ', '1': '효율', '2': '성공가능', '3': '제한시간'}\n",
      "{'MBTI': 'ENFP', '1': '성공가능', '2': '효율', '3': '제한시간'}\n",
      "{'MBTI': 'ENTP', '1': '효율', '2': '성공가능', '3': '제한시간'}\n",
      "{'MBTI': 'ENFP', '1': '성공가능', '2': '효율', '3': '제한시간'}\n",
      "{'MBTI': 'ENTP', '1': '성공가능', '2': '효율', '3': '제한시간'}\n",
      "{'MBTI': 'ENFP', '1': '성공가능', '2': '제한시간', '3': '효율'}\n",
      "{'MBTI': 'ENFP', '1': '성공가능', '2': '제한시간', '3': '효율'}\n",
      "{'MBTI': 'ISTP', '1': '효율', '2': '제한시간', '3': '성공가능'}\n",
      "{'MBTI': 'INFJ', '1': '효율', '2': '성공가능', '3': '제한시간'}\n",
      "{'MBTI': 'INTP', '1': '효율', '2': '성공가능', '3': '제한시간'}\n",
      "{'MBTI': 'ISFP', '1': '효율', '2': '성공가능', '3': '제한시간'}\n",
      "{'MBTI': 'ENTJ', '1': '성공가능', '2': '효율', '3': '제한시간'}\n",
      "{'MBTI': 'ESTJ', '1': '효율', '2': '성공가능', '3': '제한시간'}\n",
      "{'MBTI': 'INFP', '1': '성공가능', '2': '제한시간', '3': '효율'}\n",
      "{'MBTI': 'ENTP', '1': '성공가능', '2': '효율', '3': '제한시간'}\n",
      "{'MBTI': 'ENFP', '1': '효율', '2': '성공가능', '3': '제한시간'}\n",
      "{'MBTI': 'ENTP', '1': '제한시간', '2': '효율', '3': '성공가능'}\n",
      "{'MBTI': 'ENFJ', '1': '효율', '2': '성공가능', '3': '제한시간'}\n",
      "{'MBTI': 'ENFJ', '1': '성공가능', '2': '효율', '3': '제한시간'}\n",
      "{'MBTI': 'ESFJ', '1': '효율', '2': '성공가능', '3': '제한시간'}\n",
      "{'MBTI': 'INFP', '1': '효율', '2': '성공가능', '3': '제한시간'}\n",
      "{'MBTI': 'INTJ', '1': '성공가능', '2': '효율', '3': '제한시간'}\n",
      "{'MBTI': 'ENTP', '1': '효율', '2': '제한시간', '3': '성공가능'}\n",
      "{'MBTI': 'ENTJ', '1': '효율', '2': '성공가능', '3': '제한시간'}\n",
      "{'MBTI': 'ESFP', '1': '제한시간', '2': '성공가능', '3': '효율'}\n",
      "{'MBTI': 'ENFP', '1': '제한시간', '2': '성공가능', '3': '효율'}\n",
      "{'MBTI': 'ENFP', '1': '효율', '2': '제한시간', '3': '성공가능'}\n",
      "{'MBTI': 'ISFP', '1': '제한시간', '2': '제한시간', '3': '제한시간'}\n",
      "{'MBTI': 'ISFP', '1': '성공가능', '2': '효율', '3': '제한시간'}\n",
      "{'MBTI': 'ENTJ', '1': '효율', '2': '제한시간', '3': '성공가능'}\n",
      "{'MBTI': 'ENTP', '1': '효율', '2': '성공가능', '3': '제한시간'}\n",
      "{'MBTI': 'INTJ', '1': '효율', '2': '효율', '3': '효율'}\n",
      "{'MBTI': 'ENFP', '1': '성공가능', '2': '효율', '3': '제한시간'}\n",
      "{'MBTI': 'ISTJ', '1': '성공가능', '2': '효율', '3': '제한시간'}\n",
      "{'MBTI': 'INFP', '1': '효율', '2': '효율', '3': '효율'}\n",
      "{'MBTI': 'ISFP', '1': '성공가능', '2': '효율', '3': '제한시간'}\n",
      "{'MBTI': 'ENFP', '1': '성공가능', '2': '제한시간', '3': '효율'}\n",
      "{'MBTI': 'ENFP', '1': '성공가능', '2': '제한시간', '3': '효율'}\n",
      "{'MBTI': 'ENTJ', '1': '성공가능', '2': '효율', '3': '제한시간'}\n",
      "{'MBTI': 'INTJ', '1': '효율', '2': '성공가능', '3': '제한시간'}\n",
      "{'MBTI': 'ENFP', '1': '효율', '2': '제한시간', '3': '성공가능'}\n"
     ]
    }
   ],
   "source": [
    "ISTJ=[]\n",
    "ISFJ=[]\n",
    "INFJ=[]\n",
    "ISTP=[]\n",
    "ISFP=[]\n",
    "INFP=[]\n",
    "INTP=[]\n",
    "ESTP=[]\n",
    "ESFP=[]\n",
    "ENFP=[]\n",
    "ENTP=[]\n",
    "ESTJ=[]\n",
    "ESFJ=[]\n",
    "ENFJ=[]\n",
    "ENTJ=[]\n",
    "INTJ=[]\n",
    "for i in they:\n",
    "    print(i)\n",
    "    if i['MBTI']=='ISTJ':\n",
    "            ISTJ.append(oneHotEncoding(list(i.values())[1:],asd))\n",
    "    elif i['MBTI']=='ISFJ':\n",
    "            ISFJ.append(oneHotEncoding(list(i.values())[1:],asd))\n",
    "    elif i['MBTI']=='INFJ':\n",
    "            INFJ.append(oneHotEncoding(list(i.values())[1:],asd))\n",
    "    elif i['MBTI']=='ISTP':\n",
    "            ISTP.append(oneHotEncoding(list(i.values())[1:],asd))\n",
    "    elif i['MBTI']=='ISFP':\n",
    "            ISFP.append(oneHotEncoding(list(i.values())[1:],asd))\n",
    "    elif i['MBTI']=='INFP':\n",
    "            INFP.append(oneHotEncoding(list(i.values())[1:],asd))\n",
    "    elif i['MBTI']=='INTP':\n",
    "            INTP.append(oneHotEncoding(list(i.values())[1:],asd))\n",
    "    elif i['MBTI']=='ESTP':\n",
    "            ESTP.append(oneHotEncoding(list(i.values())[1:],asd))\n",
    "    elif i['MBTI']=='ESFP':\n",
    "            ESFP.append(oneHotEncoding(list(i.values())[1:],asd))\n",
    "    elif i['MBTI']=='ENFP':\n",
    "            ENFP.append(oneHotEncoding(list(i.values())[1:],asd))\n",
    "    elif i['MBTI']=='ESTJ':\n",
    "            ESTJ.append(oneHotEncoding(list(i.values())[1:],asd))\n",
    "    elif i['MBTI']=='ESFJ':\n",
    "            ESFJ.append(oneHotEncoding(list(i.values())[1:],asd))\n",
    "    elif i['MBTI']=='ENFJ':\n",
    "            ENFJ.append(oneHotEncoding(list(i.values())[1:],asd))\n",
    "    elif i['MBTI']=='ENTJ':\n",
    "            ENTJ.append(oneHotEncoding(list(i.values())[1:],asd))\n",
    "    elif i['MBTI']=='INTJ':\n",
    "            INTJ.append(oneHotEncoding(list(i.values())[1:],asd))\n",
    "    elif i['MBTI']=='ENTP':\n",
    "            ENTP.append(oneHotEncoding(list(i.values())[1:],asd))\n",
    "\n",
    "            \n"
   ]
  },
  {
   "cell_type": "code",
   "execution_count": 7,
   "metadata": {},
   "outputs": [
    {
     "name": "stdout",
     "output_type": "stream",
     "text": [
      "[[2, 1, 0]]\n",
      "[]\n",
      "[[2, 0, 1], [1, 2, 0]]\n",
      "[[1, 0, 2]]\n",
      "[[1, 2, 0], [1, 2, 0], [0, 0, 0], [2, 1, 0], [2, 1, 0]]\n",
      "[[2, 1, 0], [2, 0, 1], [1, 2, 0], [1, 1, 1]]\n",
      "[[1, 0, 2], [1, 2, 0], [1, 2, 0], [1, 2, 0]]\n",
      "[[1, 2, 0]]\n",
      "[[2, 1, 0], [0, 2, 1]]\n",
      "[[2, 1, 0], [1, 0, 2], [2, 1, 0], [2, 1, 0], [2, 1, 0], [2, 1, 0], [2, 1, 0], [2, 1, 0], [2, 0, 1], [2, 0, 1], [1, 2, 0], [0, 2, 1], [1, 0, 2], [2, 1, 0], [2, 0, 1], [2, 0, 1], [1, 0, 2]]\n",
      "[[1, 2, 0], [1, 2, 0], [1, 2, 0], [1, 2, 0], [2, 1, 0], [2, 1, 0], [0, 1, 2], [1, 0, 2], [1, 2, 0]]\n",
      "[[1, 2, 0]]\n",
      "[[2, 1, 0], [1, 0, 2], [1, 2, 0]]\n",
      "[[1, 2, 0], [2, 1, 0]]\n",
      "[[0, 2, 1], [1, 2, 0], [2, 1, 0], [1, 2, 0], [1, 0, 2], [2, 1, 0]]\n",
      "[[2, 1, 0], [1, 1, 1], [1, 2, 0]]\n"
     ]
    }
   ],
   "source": [
    "print(ISTJ)\n",
    "print(ISFJ)\n",
    "print(INFJ)\n",
    "print(ISTP)\n",
    "print(ISFP)\n",
    "print(INFP)\n",
    "print(INTP)\n",
    "print(ESTP)\n",
    "print(ESFP)\n",
    "print(ENFP)\n",
    "print(ENTP)\n",
    "print(ESTJ)\n",
    "print(ESFJ)\n",
    "print(ENFJ)\n",
    "print(ENTJ)\n",
    "print(INTJ)"
   ]
  },
  {
   "cell_type": "code",
   "execution_count": 8,
   "metadata": {},
   "outputs": [
    {
     "name": "stdout",
     "output_type": "stream",
     "text": [
      "[[2], [1], [0]]\n",
      "[[], [], []]\n",
      "[[2, 1], [0, 2], [1, 0]]\n",
      "[[1], [0], [2]]\n",
      "[[1, 1, 0, 2, 2], [2, 2, 0, 1, 1], [0, 0, 0, 0, 0]]\n",
      "[[2, 2, 1, 1], [1, 0, 2, 1], [0, 1, 0, 1]]\n",
      "[[1, 1, 1, 1], [0, 2, 2, 2], [2, 0, 0, 0]]\n",
      "[[1], [2], [0]]\n",
      "[[2, 0], [1, 2], [0, 1]]\n",
      "[[2, 1, 2, 2, 2, 2, 2, 2, 2, 2, 1, 0, 1, 2, 2, 2, 1], [1, 0, 1, 1, 1, 1, 1, 1, 0, 0, 2, 2, 0, 1, 0, 0, 0], [0, 2, 0, 0, 0, 0, 0, 0, 1, 1, 0, 1, 2, 0, 1, 1, 2]]\n",
      "[[1, 1, 1, 1, 2, 2, 0, 1, 1], [2, 2, 2, 2, 1, 1, 1, 0, 2], [0, 0, 0, 0, 0, 0, 2, 2, 0]]\n",
      "[[1], [2], [0]]\n",
      "[[2, 1, 1], [1, 0, 2], [0, 2, 0]]\n",
      "[[1, 2], [2, 1], [0, 0]]\n",
      "[[0, 1, 2, 1, 1, 2], [2, 2, 1, 2, 0, 1], [1, 0, 0, 0, 2, 0]]\n",
      "[[2, 1, 1], [1, 1, 2], [0, 1, 0]]\n"
     ]
    }
   ],
   "source": [
    "ISTJ=List_to_3nd_List(ISTJ)\n",
    "ISFJ=List_to_3nd_List(ISFJ)\n",
    "INFJ=List_to_3nd_List(INFJ)\n",
    "ISTP=List_to_3nd_List(ISTP)\n",
    "ISFP=List_to_3nd_List(ISFP)\n",
    "INFP=List_to_3nd_List(INFP)\n",
    "INTP=List_to_3nd_List(INTP)\n",
    "ESTP=List_to_3nd_List(ESTP)\n",
    "ESFP=List_to_3nd_List(ESFP)\n",
    "ENFP=List_to_3nd_List(ENFP)\n",
    "ENTP=List_to_3nd_List(ENTP)\n",
    "ESTJ=List_to_3nd_List(ESTJ)\n",
    "ESFJ=List_to_3nd_List(ESFJ)\n",
    "ENFJ=List_to_3nd_List(ENFJ)\n",
    "ENTJ=List_to_3nd_List(ENTJ)\n",
    "INTJ=List_to_3nd_List(INTJ)"
   ]
  },
  {
   "cell_type": "code",
   "execution_count": 9,
   "metadata": {},
   "outputs": [
    {
     "data": {
      "text/plain": [
       "12"
      ]
     },
     "execution_count": 9,
     "metadata": {},
     "output_type": "execute_result"
    }
   ],
   "source": [
    "ENFP[0].count(2)"
   ]
  },
  {
   "cell_type": "code",
   "execution_count": 10,
   "metadata": {},
   "outputs": [
    {
     "data": {
      "text/plain": [
       "[{1: [1]}, {2: [2]}, {3: [0]}]"
      ]
     },
     "execution_count": 10,
     "metadata": {},
     "output_type": "execute_result"
    }
   ],
   "source": [
    "getRank(ENTP)"
   ]
  },
  {
   "cell_type": "code",
   "execution_count": 11,
   "metadata": {},
   "outputs": [
    {
     "name": "stdout",
     "output_type": "stream",
     "text": [
      "ISTJ: [{1: [2]}, {2: [1]}, {3: [0]}]\n",
      "ISFJ: [{1: [1, 2, 0]}, {2: [1, 2, 0]}, {3: [1, 2, 0]}]\n",
      "INFJ: [{1: [2, 1]}, {2: [2, 0]}, {3: [1, 0]}]\n",
      "ISTP: [{1: [1]}, {2: [0]}, {3: [2]}]\n",
      "ISFP: [{1: [2, 1]}, {2: [2, 1]}, {3: [0]}]\n",
      "INFP: [{1: [2, 1]}, {2: [1]}, {3: [1, 0]}]\n",
      "INTP: [{1: [1]}, {2: [2]}, {3: [0]}]\n",
      "ESTP: [{1: [1]}, {2: [2]}, {3: [0]}]\n",
      "ESFP: [{1: [2, 0]}, {2: [2, 1]}, {3: [1, 0]}]\n",
      "ENFP: [{1: [2]}, {2: [1]}, {3: [0]}]\n",
      "ENTP: [{1: [1]}, {2: [2]}, {3: [0]}]\n",
      "ESTJ: [{1: [1]}, {2: [2]}, {3: [0]}]\n",
      "ESFJ: [{1: [1]}, {2: [1, 2, 0]}, {3: [0]}]\n",
      "ENFJ: [{1: [2, 1]}, {2: [2, 1]}, {3: [0]}]\n",
      "ENTJ: [{1: [1]}, {2: [2]}, {3: [0]}]\n",
      "INTJ: [{1: [1]}, {2: [1]}, {3: [0]}]\n"
     ]
    }
   ],
   "source": [
    "print('ISTJ:',getRank(ISTJ))\n",
    "print('ISFJ:',getRank(ISFJ))\n",
    "print('INFJ:',getRank(INFJ))\n",
    "print('ISTP:',getRank(ISTP))\n",
    "print('ISFP:',getRank(ISFP))\n",
    "print('INFP:',getRank(INFP))\n",
    "print('INTP:',getRank(INTP))\n",
    "print('ESTP:',getRank(ESTP))\n",
    "print('ESFP:',getRank(ESFP))\n",
    "print('ENFP:',getRank(ENFP))\n",
    "print('ENTP:',getRank(ENTP))\n",
    "print('ESTJ:',getRank(ESTJ))\n",
    "print('ESFJ:',getRank(ESFJ))\n",
    "print('ENFJ:',getRank(ENFJ))\n",
    "print('ENTJ:',getRank(ENTJ))\n",
    "print('INTJ:',getRank(INTJ))"
   ]
  },
  {
   "cell_type": "code",
   "execution_count": 12,
   "metadata": {},
   "outputs": [],
   "source": [
    "# retrun_json={\n",
    "# 'ISTJ':getRank(ISTJ),\n",
    "# 'ISFJ':getRank(ISFJ),\n",
    "# 'INFJ':getRank(INFJ),\n",
    "# 'ISTP':getRank(ISTP),\n",
    "# 'ISFP':getRank(ISFP),\n",
    "# 'INFP':getRank(INFP),\n",
    "# 'INTP':getRank(INTP),\n",
    "# 'ESTP':getRank(ESTP),\n",
    "# 'ESFP':getRank(ESFP),\n",
    "# 'ENFP':getRank(ENFP),\n",
    "# 'ENTP':getRank(ENTP),\n",
    "# 'ESTJ':getRank(ESTJ),\n",
    "# 'ESFJ':getRank(ESFJ),\n",
    "# 'ENFJ':getRank(ENFJ),\n",
    "# 'ENTJ':getRank(ENTJ),\n",
    "# 'INTJ':getRank(INTJ),\n",
    "# }\n",
    "\n",
    "\n",
    "retrun_json={\n",
    "    'ISTJ':ISTJ,\n",
    "    'ISFJ':ISFJ,\n",
    "    'INFJ':INFJ,\n",
    "    'ISTP':ISTP,\n",
    "    'ISFP':ISFP,\n",
    "    'INFP':INFP,\n",
    "    'INTP':INTP,\n",
    "    'ESTP':ESTP,\n",
    "    'ESFP':ESFP,\n",
    "    'ENFP':ENFP,\n",
    "    'ENTP':ENTP,\n",
    "    'ESTJ':ESTJ,\n",
    "    'ESFJ':ESFJ,\n",
    "    'ENFJ':ENFJ,\n",
    "    'ENTJ':ENTJ,\n",
    "    'INTJ':INTJ,\n",
    "    }"
   ]
  },
  {
   "cell_type": "code",
   "execution_count": 13,
   "metadata": {},
   "outputs": [],
   "source": [
    "import json"
   ]
  },
  {
   "cell_type": "code",
   "execution_count": 14,
   "metadata": {},
   "outputs": [],
   "source": [
    "with open('./datas/processing.json','w') as fp:\n",
    "    json.dump(retrun_json, fp)"
   ]
  },
  {
   "cell_type": "code",
   "execution_count": 15,
   "metadata": {},
   "outputs": [
    {
     "name": "stdout",
     "output_type": "stream",
     "text": [
      "[{1: [2]}, {2: [1]}, {3: [0]}]\n"
     ]
    }
   ],
   "source": [
    "print(getRank(ENFP))"
   ]
  },
  {
   "cell_type": "code",
   "execution_count": null,
   "metadata": {},
   "outputs": [],
   "source": []
  }
 ],
 "metadata": {
  "kernelspec": {
   "display_name": "Python 3",
   "language": "python",
   "name": "python3"
  },
  "language_info": {
   "codemirror_mode": {
    "name": "ipython",
    "version": 3
   },
   "file_extension": ".py",
   "mimetype": "text/x-python",
   "name": "python",
   "nbconvert_exporter": "python",
   "pygments_lexer": "ipython3",
   "version": "3.7.4"
  }
 },
 "nbformat": 4,
 "nbformat_minor": 2
}
